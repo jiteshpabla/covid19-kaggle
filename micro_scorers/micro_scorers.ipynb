{
  "nbformat": 4,
  "nbformat_minor": 0,
  "metadata": {
    "colab": {
      "name": "micro_scorers.ipynb",
      "provenance": [],
      "collapsed_sections": [],
      "authorship_tag": "ABX9TyPgOrm7bftjrDwo/E/h98SF",
      "include_colab_link": true
    },
    "kernelspec": {
      "name": "python3",
      "display_name": "Python 3"
    },
    "widgets": {
      "application/vnd.jupyter.widget-state+json": {
        "b4fa6ef8c01c4a459544054c87741618": {
          "model_module": "@jupyter-widgets/controls",
          "model_name": "HBoxModel",
          "state": {
            "_view_name": "HBoxView",
            "_dom_classes": [],
            "_model_name": "HBoxModel",
            "_view_module": "@jupyter-widgets/controls",
            "_model_module_version": "1.5.0",
            "_view_count": null,
            "_view_module_version": "1.5.0",
            "box_style": "",
            "layout": "IPY_MODEL_c5f867e7e7f241fe8abf12708d94a50a",
            "_model_module": "@jupyter-widgets/controls",
            "children": [
              "IPY_MODEL_1b19546eab99417885a40c91fb0560b2",
              "IPY_MODEL_101c3cc3e3c640c393058c81c80a99c4"
            ]
          }
        },
        "c5f867e7e7f241fe8abf12708d94a50a": {
          "model_module": "@jupyter-widgets/base",
          "model_name": "LayoutModel",
          "state": {
            "_view_name": "LayoutView",
            "grid_template_rows": null,
            "right": null,
            "justify_content": null,
            "_view_module": "@jupyter-widgets/base",
            "overflow": null,
            "_model_module_version": "1.2.0",
            "_view_count": null,
            "flex_flow": null,
            "width": null,
            "min_width": null,
            "border": null,
            "align_items": null,
            "bottom": null,
            "_model_module": "@jupyter-widgets/base",
            "top": null,
            "grid_column": null,
            "overflow_y": null,
            "overflow_x": null,
            "grid_auto_flow": null,
            "grid_area": null,
            "grid_template_columns": null,
            "flex": null,
            "_model_name": "LayoutModel",
            "justify_items": null,
            "grid_row": null,
            "max_height": null,
            "align_content": null,
            "visibility": null,
            "align_self": null,
            "height": null,
            "min_height": null,
            "padding": null,
            "grid_auto_rows": null,
            "grid_gap": null,
            "max_width": null,
            "order": null,
            "_view_module_version": "1.2.0",
            "grid_template_areas": null,
            "object_position": null,
            "object_fit": null,
            "grid_auto_columns": null,
            "margin": null,
            "display": null,
            "left": null
          }
        },
        "1b19546eab99417885a40c91fb0560b2": {
          "model_module": "@jupyter-widgets/controls",
          "model_name": "IntProgressModel",
          "state": {
            "_view_name": "ProgressView",
            "style": "IPY_MODEL_6f750c855d7c496c87b601121fecee80",
            "_dom_classes": [],
            "description": "Downloading: 100%",
            "_model_name": "IntProgressModel",
            "bar_style": "success",
            "max": 524,
            "_view_module": "@jupyter-widgets/controls",
            "_model_module_version": "1.5.0",
            "value": 524,
            "_view_count": null,
            "_view_module_version": "1.5.0",
            "orientation": "horizontal",
            "min": 0,
            "description_tooltip": null,
            "_model_module": "@jupyter-widgets/controls",
            "layout": "IPY_MODEL_91a0b94c868643cb8f1f668dc357e342"
          }
        },
        "101c3cc3e3c640c393058c81c80a99c4": {
          "model_module": "@jupyter-widgets/controls",
          "model_name": "HTMLModel",
          "state": {
            "_view_name": "HTMLView",
            "style": "IPY_MODEL_24d61bf9beba4e9f92e4c09953725ba4",
            "_dom_classes": [],
            "description": "",
            "_model_name": "HTMLModel",
            "placeholder": "​",
            "_view_module": "@jupyter-widgets/controls",
            "_model_module_version": "1.5.0",
            "value": " 524/524 [00:33&lt;00:00, 15.8B/s]",
            "_view_count": null,
            "_view_module_version": "1.5.0",
            "description_tooltip": null,
            "_model_module": "@jupyter-widgets/controls",
            "layout": "IPY_MODEL_6f873ff3a59a4480a19d0d99ddb68c03"
          }
        },
        "6f750c855d7c496c87b601121fecee80": {
          "model_module": "@jupyter-widgets/controls",
          "model_name": "ProgressStyleModel",
          "state": {
            "_view_name": "StyleView",
            "_model_name": "ProgressStyleModel",
            "description_width": "initial",
            "_view_module": "@jupyter-widgets/base",
            "_model_module_version": "1.5.0",
            "_view_count": null,
            "_view_module_version": "1.2.0",
            "bar_color": null,
            "_model_module": "@jupyter-widgets/controls"
          }
        },
        "91a0b94c868643cb8f1f668dc357e342": {
          "model_module": "@jupyter-widgets/base",
          "model_name": "LayoutModel",
          "state": {
            "_view_name": "LayoutView",
            "grid_template_rows": null,
            "right": null,
            "justify_content": null,
            "_view_module": "@jupyter-widgets/base",
            "overflow": null,
            "_model_module_version": "1.2.0",
            "_view_count": null,
            "flex_flow": null,
            "width": null,
            "min_width": null,
            "border": null,
            "align_items": null,
            "bottom": null,
            "_model_module": "@jupyter-widgets/base",
            "top": null,
            "grid_column": null,
            "overflow_y": null,
            "overflow_x": null,
            "grid_auto_flow": null,
            "grid_area": null,
            "grid_template_columns": null,
            "flex": null,
            "_model_name": "LayoutModel",
            "justify_items": null,
            "grid_row": null,
            "max_height": null,
            "align_content": null,
            "visibility": null,
            "align_self": null,
            "height": null,
            "min_height": null,
            "padding": null,
            "grid_auto_rows": null,
            "grid_gap": null,
            "max_width": null,
            "order": null,
            "_view_module_version": "1.2.0",
            "grid_template_areas": null,
            "object_position": null,
            "object_fit": null,
            "grid_auto_columns": null,
            "margin": null,
            "display": null,
            "left": null
          }
        },
        "24d61bf9beba4e9f92e4c09953725ba4": {
          "model_module": "@jupyter-widgets/controls",
          "model_name": "DescriptionStyleModel",
          "state": {
            "_view_name": "StyleView",
            "_model_name": "DescriptionStyleModel",
            "description_width": "",
            "_view_module": "@jupyter-widgets/base",
            "_model_module_version": "1.5.0",
            "_view_count": null,
            "_view_module_version": "1.2.0",
            "_model_module": "@jupyter-widgets/controls"
          }
        },
        "6f873ff3a59a4480a19d0d99ddb68c03": {
          "model_module": "@jupyter-widgets/base",
          "model_name": "LayoutModel",
          "state": {
            "_view_name": "LayoutView",
            "grid_template_rows": null,
            "right": null,
            "justify_content": null,
            "_view_module": "@jupyter-widgets/base",
            "overflow": null,
            "_model_module_version": "1.2.0",
            "_view_count": null,
            "flex_flow": null,
            "width": null,
            "min_width": null,
            "border": null,
            "align_items": null,
            "bottom": null,
            "_model_module": "@jupyter-widgets/base",
            "top": null,
            "grid_column": null,
            "overflow_y": null,
            "overflow_x": null,
            "grid_auto_flow": null,
            "grid_area": null,
            "grid_template_columns": null,
            "flex": null,
            "_model_name": "LayoutModel",
            "justify_items": null,
            "grid_row": null,
            "max_height": null,
            "align_content": null,
            "visibility": null,
            "align_self": null,
            "height": null,
            "min_height": null,
            "padding": null,
            "grid_auto_rows": null,
            "grid_gap": null,
            "max_width": null,
            "order": null,
            "_view_module_version": "1.2.0",
            "grid_template_areas": null,
            "object_position": null,
            "object_fit": null,
            "grid_auto_columns": null,
            "margin": null,
            "display": null,
            "left": null
          }
        },
        "292be32ddb5844fea9299da19b4d285f": {
          "model_module": "@jupyter-widgets/controls",
          "model_name": "HBoxModel",
          "state": {
            "_view_name": "HBoxView",
            "_dom_classes": [],
            "_model_name": "HBoxModel",
            "_view_module": "@jupyter-widgets/controls",
            "_model_module_version": "1.5.0",
            "_view_count": null,
            "_view_module_version": "1.5.0",
            "box_style": "",
            "layout": "IPY_MODEL_c8e4a9f266374227a1bb2972961e2ffd",
            "_model_module": "@jupyter-widgets/controls",
            "children": [
              "IPY_MODEL_cdf46c9e121e47c39037c941c82e6a1e",
              "IPY_MODEL_adf08d56e85f47988d5e7133896cd921"
            ]
          }
        },
        "c8e4a9f266374227a1bb2972961e2ffd": {
          "model_module": "@jupyter-widgets/base",
          "model_name": "LayoutModel",
          "state": {
            "_view_name": "LayoutView",
            "grid_template_rows": null,
            "right": null,
            "justify_content": null,
            "_view_module": "@jupyter-widgets/base",
            "overflow": null,
            "_model_module_version": "1.2.0",
            "_view_count": null,
            "flex_flow": null,
            "width": null,
            "min_width": null,
            "border": null,
            "align_items": null,
            "bottom": null,
            "_model_module": "@jupyter-widgets/base",
            "top": null,
            "grid_column": null,
            "overflow_y": null,
            "overflow_x": null,
            "grid_auto_flow": null,
            "grid_area": null,
            "grid_template_columns": null,
            "flex": null,
            "_model_name": "LayoutModel",
            "justify_items": null,
            "grid_row": null,
            "max_height": null,
            "align_content": null,
            "visibility": null,
            "align_self": null,
            "height": null,
            "min_height": null,
            "padding": null,
            "grid_auto_rows": null,
            "grid_gap": null,
            "max_width": null,
            "order": null,
            "_view_module_version": "1.2.0",
            "grid_template_areas": null,
            "object_position": null,
            "object_fit": null,
            "grid_auto_columns": null,
            "margin": null,
            "display": null,
            "left": null
          }
        },
        "cdf46c9e121e47c39037c941c82e6a1e": {
          "model_module": "@jupyter-widgets/controls",
          "model_name": "IntProgressModel",
          "state": {
            "_view_name": "ProgressView",
            "style": "IPY_MODEL_0589e551071942b3a6ea41b0729b6e30",
            "_dom_classes": [],
            "description": "Downloading: 100%",
            "_model_name": "IntProgressModel",
            "bar_style": "success",
            "max": 501200538,
            "_view_module": "@jupyter-widgets/controls",
            "_model_module_version": "1.5.0",
            "value": 501200538,
            "_view_count": null,
            "_view_module_version": "1.5.0",
            "orientation": "horizontal",
            "min": 0,
            "description_tooltip": null,
            "_model_module": "@jupyter-widgets/controls",
            "layout": "IPY_MODEL_03d560f2751141f3bea9cd99b9e0b635"
          }
        },
        "adf08d56e85f47988d5e7133896cd921": {
          "model_module": "@jupyter-widgets/controls",
          "model_name": "HTMLModel",
          "state": {
            "_view_name": "HTMLView",
            "style": "IPY_MODEL_b20065855450457b9bbe004a2aaf1548",
            "_dom_classes": [],
            "description": "",
            "_model_name": "HTMLModel",
            "placeholder": "​",
            "_view_module": "@jupyter-widgets/controls",
            "_model_module_version": "1.5.0",
            "value": " 501M/501M [00:11&lt;00:00, 42.3MB/s]",
            "_view_count": null,
            "_view_module_version": "1.5.0",
            "description_tooltip": null,
            "_model_module": "@jupyter-widgets/controls",
            "layout": "IPY_MODEL_8933953d0120465398f683709586c475"
          }
        },
        "0589e551071942b3a6ea41b0729b6e30": {
          "model_module": "@jupyter-widgets/controls",
          "model_name": "ProgressStyleModel",
          "state": {
            "_view_name": "StyleView",
            "_model_name": "ProgressStyleModel",
            "description_width": "initial",
            "_view_module": "@jupyter-widgets/base",
            "_model_module_version": "1.5.0",
            "_view_count": null,
            "_view_module_version": "1.2.0",
            "bar_color": null,
            "_model_module": "@jupyter-widgets/controls"
          }
        },
        "03d560f2751141f3bea9cd99b9e0b635": {
          "model_module": "@jupyter-widgets/base",
          "model_name": "LayoutModel",
          "state": {
            "_view_name": "LayoutView",
            "grid_template_rows": null,
            "right": null,
            "justify_content": null,
            "_view_module": "@jupyter-widgets/base",
            "overflow": null,
            "_model_module_version": "1.2.0",
            "_view_count": null,
            "flex_flow": null,
            "width": null,
            "min_width": null,
            "border": null,
            "align_items": null,
            "bottom": null,
            "_model_module": "@jupyter-widgets/base",
            "top": null,
            "grid_column": null,
            "overflow_y": null,
            "overflow_x": null,
            "grid_auto_flow": null,
            "grid_area": null,
            "grid_template_columns": null,
            "flex": null,
            "_model_name": "LayoutModel",
            "justify_items": null,
            "grid_row": null,
            "max_height": null,
            "align_content": null,
            "visibility": null,
            "align_self": null,
            "height": null,
            "min_height": null,
            "padding": null,
            "grid_auto_rows": null,
            "grid_gap": null,
            "max_width": null,
            "order": null,
            "_view_module_version": "1.2.0",
            "grid_template_areas": null,
            "object_position": null,
            "object_fit": null,
            "grid_auto_columns": null,
            "margin": null,
            "display": null,
            "left": null
          }
        },
        "b20065855450457b9bbe004a2aaf1548": {
          "model_module": "@jupyter-widgets/controls",
          "model_name": "DescriptionStyleModel",
          "state": {
            "_view_name": "StyleView",
            "_model_name": "DescriptionStyleModel",
            "description_width": "",
            "_view_module": "@jupyter-widgets/base",
            "_model_module_version": "1.5.0",
            "_view_count": null,
            "_view_module_version": "1.2.0",
            "_model_module": "@jupyter-widgets/controls"
          }
        },
        "8933953d0120465398f683709586c475": {
          "model_module": "@jupyter-widgets/base",
          "model_name": "LayoutModel",
          "state": {
            "_view_name": "LayoutView",
            "grid_template_rows": null,
            "right": null,
            "justify_content": null,
            "_view_module": "@jupyter-widgets/base",
            "overflow": null,
            "_model_module_version": "1.2.0",
            "_view_count": null,
            "flex_flow": null,
            "width": null,
            "min_width": null,
            "border": null,
            "align_items": null,
            "bottom": null,
            "_model_module": "@jupyter-widgets/base",
            "top": null,
            "grid_column": null,
            "overflow_y": null,
            "overflow_x": null,
            "grid_auto_flow": null,
            "grid_area": null,
            "grid_template_columns": null,
            "flex": null,
            "_model_name": "LayoutModel",
            "justify_items": null,
            "grid_row": null,
            "max_height": null,
            "align_content": null,
            "visibility": null,
            "align_self": null,
            "height": null,
            "min_height": null,
            "padding": null,
            "grid_auto_rows": null,
            "grid_gap": null,
            "max_width": null,
            "order": null,
            "_view_module_version": "1.2.0",
            "grid_template_areas": null,
            "object_position": null,
            "object_fit": null,
            "grid_auto_columns": null,
            "margin": null,
            "display": null,
            "left": null
          }
        },
        "6584e9d17d804770ac8c31522cec26a4": {
          "model_module": "@jupyter-widgets/controls",
          "model_name": "HBoxModel",
          "state": {
            "_view_name": "HBoxView",
            "_dom_classes": [],
            "_model_name": "HBoxModel",
            "_view_module": "@jupyter-widgets/controls",
            "_model_module_version": "1.5.0",
            "_view_count": null,
            "_view_module_version": "1.5.0",
            "box_style": "",
            "layout": "IPY_MODEL_473a6370b30a4da681250c935524bda5",
            "_model_module": "@jupyter-widgets/controls",
            "children": [
              "IPY_MODEL_7e2df146f6724caeabbfff4106e11fb0",
              "IPY_MODEL_5bb9cbdd5f8c441db6e59aeaa8df3e29"
            ]
          }
        },
        "473a6370b30a4da681250c935524bda5": {
          "model_module": "@jupyter-widgets/base",
          "model_name": "LayoutModel",
          "state": {
            "_view_name": "LayoutView",
            "grid_template_rows": null,
            "right": null,
            "justify_content": null,
            "_view_module": "@jupyter-widgets/base",
            "overflow": null,
            "_model_module_version": "1.2.0",
            "_view_count": null,
            "flex_flow": null,
            "width": null,
            "min_width": null,
            "border": null,
            "align_items": null,
            "bottom": null,
            "_model_module": "@jupyter-widgets/base",
            "top": null,
            "grid_column": null,
            "overflow_y": null,
            "overflow_x": null,
            "grid_auto_flow": null,
            "grid_area": null,
            "grid_template_columns": null,
            "flex": null,
            "_model_name": "LayoutModel",
            "justify_items": null,
            "grid_row": null,
            "max_height": null,
            "align_content": null,
            "visibility": null,
            "align_self": null,
            "height": null,
            "min_height": null,
            "padding": null,
            "grid_auto_rows": null,
            "grid_gap": null,
            "max_width": null,
            "order": null,
            "_view_module_version": "1.2.0",
            "grid_template_areas": null,
            "object_position": null,
            "object_fit": null,
            "grid_auto_columns": null,
            "margin": null,
            "display": null,
            "left": null
          }
        },
        "7e2df146f6724caeabbfff4106e11fb0": {
          "model_module": "@jupyter-widgets/controls",
          "model_name": "IntProgressModel",
          "state": {
            "_view_name": "ProgressView",
            "style": "IPY_MODEL_eafb7670f9f8459eb583a478cedf101f",
            "_dom_classes": [],
            "description": "Downloading: 100%",
            "_model_name": "IntProgressModel",
            "bar_style": "success",
            "max": 898823,
            "_view_module": "@jupyter-widgets/controls",
            "_model_module_version": "1.5.0",
            "value": 898823,
            "_view_count": null,
            "_view_module_version": "1.5.0",
            "orientation": "horizontal",
            "min": 0,
            "description_tooltip": null,
            "_model_module": "@jupyter-widgets/controls",
            "layout": "IPY_MODEL_409c9364081d41afbb4be77b5dbafc6a"
          }
        },
        "5bb9cbdd5f8c441db6e59aeaa8df3e29": {
          "model_module": "@jupyter-widgets/controls",
          "model_name": "HTMLModel",
          "state": {
            "_view_name": "HTMLView",
            "style": "IPY_MODEL_34ee2440376449ff90b180b3757d3221",
            "_dom_classes": [],
            "description": "",
            "_model_name": "HTMLModel",
            "placeholder": "​",
            "_view_module": "@jupyter-widgets/controls",
            "_model_module_version": "1.5.0",
            "value": " 899k/899k [00:01&lt;00:00, 719kB/s]",
            "_view_count": null,
            "_view_module_version": "1.5.0",
            "description_tooltip": null,
            "_model_module": "@jupyter-widgets/controls",
            "layout": "IPY_MODEL_32cd52ca28344c1680a8af34832764d5"
          }
        },
        "eafb7670f9f8459eb583a478cedf101f": {
          "model_module": "@jupyter-widgets/controls",
          "model_name": "ProgressStyleModel",
          "state": {
            "_view_name": "StyleView",
            "_model_name": "ProgressStyleModel",
            "description_width": "initial",
            "_view_module": "@jupyter-widgets/base",
            "_model_module_version": "1.5.0",
            "_view_count": null,
            "_view_module_version": "1.2.0",
            "bar_color": null,
            "_model_module": "@jupyter-widgets/controls"
          }
        },
        "409c9364081d41afbb4be77b5dbafc6a": {
          "model_module": "@jupyter-widgets/base",
          "model_name": "LayoutModel",
          "state": {
            "_view_name": "LayoutView",
            "grid_template_rows": null,
            "right": null,
            "justify_content": null,
            "_view_module": "@jupyter-widgets/base",
            "overflow": null,
            "_model_module_version": "1.2.0",
            "_view_count": null,
            "flex_flow": null,
            "width": null,
            "min_width": null,
            "border": null,
            "align_items": null,
            "bottom": null,
            "_model_module": "@jupyter-widgets/base",
            "top": null,
            "grid_column": null,
            "overflow_y": null,
            "overflow_x": null,
            "grid_auto_flow": null,
            "grid_area": null,
            "grid_template_columns": null,
            "flex": null,
            "_model_name": "LayoutModel",
            "justify_items": null,
            "grid_row": null,
            "max_height": null,
            "align_content": null,
            "visibility": null,
            "align_self": null,
            "height": null,
            "min_height": null,
            "padding": null,
            "grid_auto_rows": null,
            "grid_gap": null,
            "max_width": null,
            "order": null,
            "_view_module_version": "1.2.0",
            "grid_template_areas": null,
            "object_position": null,
            "object_fit": null,
            "grid_auto_columns": null,
            "margin": null,
            "display": null,
            "left": null
          }
        },
        "34ee2440376449ff90b180b3757d3221": {
          "model_module": "@jupyter-widgets/controls",
          "model_name": "DescriptionStyleModel",
          "state": {
            "_view_name": "StyleView",
            "_model_name": "DescriptionStyleModel",
            "description_width": "",
            "_view_module": "@jupyter-widgets/base",
            "_model_module_version": "1.5.0",
            "_view_count": null,
            "_view_module_version": "1.2.0",
            "_model_module": "@jupyter-widgets/controls"
          }
        },
        "32cd52ca28344c1680a8af34832764d5": {
          "model_module": "@jupyter-widgets/base",
          "model_name": "LayoutModel",
          "state": {
            "_view_name": "LayoutView",
            "grid_template_rows": null,
            "right": null,
            "justify_content": null,
            "_view_module": "@jupyter-widgets/base",
            "overflow": null,
            "_model_module_version": "1.2.0",
            "_view_count": null,
            "flex_flow": null,
            "width": null,
            "min_width": null,
            "border": null,
            "align_items": null,
            "bottom": null,
            "_model_module": "@jupyter-widgets/base",
            "top": null,
            "grid_column": null,
            "overflow_y": null,
            "overflow_x": null,
            "grid_auto_flow": null,
            "grid_area": null,
            "grid_template_columns": null,
            "flex": null,
            "_model_name": "LayoutModel",
            "justify_items": null,
            "grid_row": null,
            "max_height": null,
            "align_content": null,
            "visibility": null,
            "align_self": null,
            "height": null,
            "min_height": null,
            "padding": null,
            "grid_auto_rows": null,
            "grid_gap": null,
            "max_width": null,
            "order": null,
            "_view_module_version": "1.2.0",
            "grid_template_areas": null,
            "object_position": null,
            "object_fit": null,
            "grid_auto_columns": null,
            "margin": null,
            "display": null,
            "left": null
          }
        },
        "74e886fb6fe4452b96c2b4d7e8dd7220": {
          "model_module": "@jupyter-widgets/controls",
          "model_name": "HBoxModel",
          "state": {
            "_view_name": "HBoxView",
            "_dom_classes": [],
            "_model_name": "HBoxModel",
            "_view_module": "@jupyter-widgets/controls",
            "_model_module_version": "1.5.0",
            "_view_count": null,
            "_view_module_version": "1.5.0",
            "box_style": "",
            "layout": "IPY_MODEL_d3e47398170f46b1985a8693c086feba",
            "_model_module": "@jupyter-widgets/controls",
            "children": [
              "IPY_MODEL_a4140e80227548bd8d0db464bb3223f4",
              "IPY_MODEL_f43e5a36265c4f278cc85c398b2ce321"
            ]
          }
        },
        "d3e47398170f46b1985a8693c086feba": {
          "model_module": "@jupyter-widgets/base",
          "model_name": "LayoutModel",
          "state": {
            "_view_name": "LayoutView",
            "grid_template_rows": null,
            "right": null,
            "justify_content": null,
            "_view_module": "@jupyter-widgets/base",
            "overflow": null,
            "_model_module_version": "1.2.0",
            "_view_count": null,
            "flex_flow": null,
            "width": null,
            "min_width": null,
            "border": null,
            "align_items": null,
            "bottom": null,
            "_model_module": "@jupyter-widgets/base",
            "top": null,
            "grid_column": null,
            "overflow_y": null,
            "overflow_x": null,
            "grid_auto_flow": null,
            "grid_area": null,
            "grid_template_columns": null,
            "flex": null,
            "_model_name": "LayoutModel",
            "justify_items": null,
            "grid_row": null,
            "max_height": null,
            "align_content": null,
            "visibility": null,
            "align_self": null,
            "height": null,
            "min_height": null,
            "padding": null,
            "grid_auto_rows": null,
            "grid_gap": null,
            "max_width": null,
            "order": null,
            "_view_module_version": "1.2.0",
            "grid_template_areas": null,
            "object_position": null,
            "object_fit": null,
            "grid_auto_columns": null,
            "margin": null,
            "display": null,
            "left": null
          }
        },
        "a4140e80227548bd8d0db464bb3223f4": {
          "model_module": "@jupyter-widgets/controls",
          "model_name": "IntProgressModel",
          "state": {
            "_view_name": "ProgressView",
            "style": "IPY_MODEL_e05dcc9fc47d42aa99a7ad03abd36df4",
            "_dom_classes": [],
            "description": "Downloading: 100%",
            "_model_name": "IntProgressModel",
            "bar_style": "success",
            "max": 456318,
            "_view_module": "@jupyter-widgets/controls",
            "_model_module_version": "1.5.0",
            "value": 456318,
            "_view_count": null,
            "_view_module_version": "1.5.0",
            "orientation": "horizontal",
            "min": 0,
            "description_tooltip": null,
            "_model_module": "@jupyter-widgets/controls",
            "layout": "IPY_MODEL_5ab831cdfeac4dde95e099980e960262"
          }
        },
        "f43e5a36265c4f278cc85c398b2ce321": {
          "model_module": "@jupyter-widgets/controls",
          "model_name": "HTMLModel",
          "state": {
            "_view_name": "HTMLView",
            "style": "IPY_MODEL_f909249ac2294bb4b20e79a3a33a258c",
            "_dom_classes": [],
            "description": "",
            "_model_name": "HTMLModel",
            "placeholder": "​",
            "_view_module": "@jupyter-widgets/controls",
            "_model_module_version": "1.5.0",
            "value": " 456k/456k [00:00&lt;00:00, 1.48MB/s]",
            "_view_count": null,
            "_view_module_version": "1.5.0",
            "description_tooltip": null,
            "_model_module": "@jupyter-widgets/controls",
            "layout": "IPY_MODEL_e00a23c66bfe4c64a629aef163540c22"
          }
        },
        "e05dcc9fc47d42aa99a7ad03abd36df4": {
          "model_module": "@jupyter-widgets/controls",
          "model_name": "ProgressStyleModel",
          "state": {
            "_view_name": "StyleView",
            "_model_name": "ProgressStyleModel",
            "description_width": "initial",
            "_view_module": "@jupyter-widgets/base",
            "_model_module_version": "1.5.0",
            "_view_count": null,
            "_view_module_version": "1.2.0",
            "bar_color": null,
            "_model_module": "@jupyter-widgets/controls"
          }
        },
        "5ab831cdfeac4dde95e099980e960262": {
          "model_module": "@jupyter-widgets/base",
          "model_name": "LayoutModel",
          "state": {
            "_view_name": "LayoutView",
            "grid_template_rows": null,
            "right": null,
            "justify_content": null,
            "_view_module": "@jupyter-widgets/base",
            "overflow": null,
            "_model_module_version": "1.2.0",
            "_view_count": null,
            "flex_flow": null,
            "width": null,
            "min_width": null,
            "border": null,
            "align_items": null,
            "bottom": null,
            "_model_module": "@jupyter-widgets/base",
            "top": null,
            "grid_column": null,
            "overflow_y": null,
            "overflow_x": null,
            "grid_auto_flow": null,
            "grid_area": null,
            "grid_template_columns": null,
            "flex": null,
            "_model_name": "LayoutModel",
            "justify_items": null,
            "grid_row": null,
            "max_height": null,
            "align_content": null,
            "visibility": null,
            "align_self": null,
            "height": null,
            "min_height": null,
            "padding": null,
            "grid_auto_rows": null,
            "grid_gap": null,
            "max_width": null,
            "order": null,
            "_view_module_version": "1.2.0",
            "grid_template_areas": null,
            "object_position": null,
            "object_fit": null,
            "grid_auto_columns": null,
            "margin": null,
            "display": null,
            "left": null
          }
        },
        "f909249ac2294bb4b20e79a3a33a258c": {
          "model_module": "@jupyter-widgets/controls",
          "model_name": "DescriptionStyleModel",
          "state": {
            "_view_name": "StyleView",
            "_model_name": "DescriptionStyleModel",
            "description_width": "",
            "_view_module": "@jupyter-widgets/base",
            "_model_module_version": "1.5.0",
            "_view_count": null,
            "_view_module_version": "1.2.0",
            "_model_module": "@jupyter-widgets/controls"
          }
        },
        "e00a23c66bfe4c64a629aef163540c22": {
          "model_module": "@jupyter-widgets/base",
          "model_name": "LayoutModel",
          "state": {
            "_view_name": "LayoutView",
            "grid_template_rows": null,
            "right": null,
            "justify_content": null,
            "_view_module": "@jupyter-widgets/base",
            "overflow": null,
            "_model_module_version": "1.2.0",
            "_view_count": null,
            "flex_flow": null,
            "width": null,
            "min_width": null,
            "border": null,
            "align_items": null,
            "bottom": null,
            "_model_module": "@jupyter-widgets/base",
            "top": null,
            "grid_column": null,
            "overflow_y": null,
            "overflow_x": null,
            "grid_auto_flow": null,
            "grid_area": null,
            "grid_template_columns": null,
            "flex": null,
            "_model_name": "LayoutModel",
            "justify_items": null,
            "grid_row": null,
            "max_height": null,
            "align_content": null,
            "visibility": null,
            "align_self": null,
            "height": null,
            "min_height": null,
            "padding": null,
            "grid_auto_rows": null,
            "grid_gap": null,
            "max_width": null,
            "order": null,
            "_view_module_version": "1.2.0",
            "grid_template_areas": null,
            "object_position": null,
            "object_fit": null,
            "grid_auto_columns": null,
            "margin": null,
            "display": null,
            "left": null
          }
        }
      }
    },
    "accelerator": "GPU"
  },
  "cells": [
    {
      "cell_type": "markdown",
      "metadata": {
        "id": "view-in-github",
        "colab_type": "text"
      },
      "source": [
        "<a href=\"https://colab.research.google.com/github/md-labs/covid19-kaggle/blob/hong/micro_scorers/micro_scorers.ipynb\" target=\"_parent\"><img src=\"https://colab.research.google.com/assets/colab-badge.svg\" alt=\"Open In Colab\"/></a>"
      ]
    },
    {
      "cell_type": "code",
      "metadata": {
        "id": "bxx9QdsAUjM9",
        "colab_type": "code",
        "outputId": "9d4962b8-6a70-430a-aba8-4186ebf9b931",
        "colab": {
          "base_uri": "https://localhost:8080/",
          "height": 938
        }
      },
      "source": [
        "!pip install transformers\n",
        "!pip install rpforest"
      ],
      "execution_count": 0,
      "outputs": [
        {
          "output_type": "stream",
          "text": [
            "Collecting transformers\n",
            "\u001b[?25l  Downloading https://files.pythonhosted.org/packages/a3/78/92cedda05552398352ed9784908b834ee32a0bd071a9b32de287327370b7/transformers-2.8.0-py3-none-any.whl (563kB)\n",
            "\r\u001b[K     |▋                               | 10kB 30.3MB/s eta 0:00:01\r\u001b[K     |█▏                              | 20kB 902kB/s eta 0:00:01\r\u001b[K     |█▊                              | 30kB 1.3MB/s eta 0:00:01\r\u001b[K     |██▎                             | 40kB 1.4MB/s eta 0:00:01\r\u001b[K     |███                             | 51kB 1.7MB/s eta 0:00:01\r\u001b[K     |███▌                            | 61kB 2.0MB/s eta 0:00:01\r\u001b[K     |████                            | 71kB 2.4MB/s eta 0:00:01\r\u001b[K     |████▋                           | 81kB 2.2MB/s eta 0:00:01\r\u001b[K     |█████▎                          | 92kB 2.5MB/s eta 0:00:01\r\u001b[K     |█████▉                          | 102kB 2.7MB/s eta 0:00:01\r\u001b[K     |██████▍                         | 112kB 2.7MB/s eta 0:00:01\r\u001b[K     |███████                         | 122kB 2.7MB/s eta 0:00:01\r\u001b[K     |███████▋                        | 133kB 2.7MB/s eta 0:00:01\r\u001b[K     |████████▏                       | 143kB 2.7MB/s eta 0:00:01\r\u001b[K     |████████▊                       | 153kB 2.7MB/s eta 0:00:01\r\u001b[K     |█████████▎                      | 163kB 2.7MB/s eta 0:00:01\r\u001b[K     |█████████▉                      | 174kB 2.7MB/s eta 0:00:01\r\u001b[K     |██████████▌                     | 184kB 2.7MB/s eta 0:00:01\r\u001b[K     |███████████                     | 194kB 2.7MB/s eta 0:00:01\r\u001b[K     |███████████▋                    | 204kB 2.7MB/s eta 0:00:01\r\u001b[K     |████████████▏                   | 215kB 2.7MB/s eta 0:00:01\r\u001b[K     |████████████▉                   | 225kB 2.7MB/s eta 0:00:01\r\u001b[K     |█████████████▍                  | 235kB 2.7MB/s eta 0:00:01\r\u001b[K     |██████████████                  | 245kB 2.7MB/s eta 0:00:01\r\u001b[K     |██████████████▌                 | 256kB 2.7MB/s eta 0:00:01\r\u001b[K     |███████████████▏                | 266kB 2.7MB/s eta 0:00:01\r\u001b[K     |███████████████▊                | 276kB 2.7MB/s eta 0:00:01\r\u001b[K     |████████████████▎               | 286kB 2.7MB/s eta 0:00:01\r\u001b[K     |████████████████▉               | 296kB 2.7MB/s eta 0:00:01\r\u001b[K     |█████████████████▍              | 307kB 2.7MB/s eta 0:00:01\r\u001b[K     |██████████████████              | 317kB 2.7MB/s eta 0:00:01\r\u001b[K     |██████████████████▋             | 327kB 2.7MB/s eta 0:00:01\r\u001b[K     |███████████████████▏            | 337kB 2.7MB/s eta 0:00:01\r\u001b[K     |███████████████████▊            | 348kB 2.7MB/s eta 0:00:01\r\u001b[K     |████████████████████▍           | 358kB 2.7MB/s eta 0:00:01\r\u001b[K     |█████████████████████           | 368kB 2.7MB/s eta 0:00:01\r\u001b[K     |█████████████████████▌          | 378kB 2.7MB/s eta 0:00:01\r\u001b[K     |██████████████████████          | 389kB 2.7MB/s eta 0:00:01\r\u001b[K     |██████████████████████▊         | 399kB 2.7MB/s eta 0:00:01\r\u001b[K     |███████████████████████▎        | 409kB 2.7MB/s eta 0:00:01\r\u001b[K     |███████████████████████▉        | 419kB 2.7MB/s eta 0:00:01\r\u001b[K     |████████████████████████▍       | 430kB 2.7MB/s eta 0:00:01\r\u001b[K     |█████████████████████████       | 440kB 2.7MB/s eta 0:00:01\r\u001b[K     |█████████████████████████▋      | 450kB 2.7MB/s eta 0:00:01\r\u001b[K     |██████████████████████████▏     | 460kB 2.7MB/s eta 0:00:01\r\u001b[K     |██████████████████████████▊     | 471kB 2.7MB/s eta 0:00:01\r\u001b[K     |███████████████████████████▎    | 481kB 2.7MB/s eta 0:00:01\r\u001b[K     |████████████████████████████    | 491kB 2.7MB/s eta 0:00:01\r\u001b[K     |████████████████████████████▌   | 501kB 2.7MB/s eta 0:00:01\r\u001b[K     |█████████████████████████████   | 512kB 2.7MB/s eta 0:00:01\r\u001b[K     |█████████████████████████████▋  | 522kB 2.7MB/s eta 0:00:01\r\u001b[K     |██████████████████████████████▎ | 532kB 2.7MB/s eta 0:00:01\r\u001b[K     |██████████████████████████████▉ | 542kB 2.7MB/s eta 0:00:01\r\u001b[K     |███████████████████████████████▍| 552kB 2.7MB/s eta 0:00:01\r\u001b[K     |████████████████████████████████| 563kB 2.7MB/s eta 0:00:01\r\u001b[K     |████████████████████████████████| 573kB 2.7MB/s \n",
            "\u001b[?25hRequirement already satisfied: regex!=2019.12.17 in /usr/local/lib/python3.6/dist-packages (from transformers) (2019.12.20)\n",
            "Requirement already satisfied: filelock in /usr/local/lib/python3.6/dist-packages (from transformers) (3.0.12)\n",
            "Requirement already satisfied: tqdm>=4.27 in /usr/local/lib/python3.6/dist-packages (from transformers) (4.38.0)\n",
            "Collecting tokenizers==0.5.2\n",
            "\u001b[?25l  Downloading https://files.pythonhosted.org/packages/d1/3f/73c881ea4723e43c1e9acf317cf407fab3a278daab3a69c98dcac511c04f/tokenizers-0.5.2-cp36-cp36m-manylinux1_x86_64.whl (3.7MB)\n",
            "\u001b[K     |████████████████████████████████| 3.7MB 52.9MB/s \n",
            "\u001b[?25hCollecting sentencepiece\n",
            "\u001b[?25l  Downloading https://files.pythonhosted.org/packages/74/f4/2d5214cbf13d06e7cb2c20d84115ca25b53ea76fa1f0ade0e3c9749de214/sentencepiece-0.1.85-cp36-cp36m-manylinux1_x86_64.whl (1.0MB)\n",
            "\u001b[K     |████████████████████████████████| 1.0MB 22.9MB/s \n",
            "\u001b[?25hRequirement already satisfied: numpy in /usr/local/lib/python3.6/dist-packages (from transformers) (1.18.2)\n",
            "Collecting sacremoses\n",
            "\u001b[?25l  Downloading https://files.pythonhosted.org/packages/99/50/93509f906a40bffd7d175f97fd75ea328ad9bd91f48f59c4bd084c94a25e/sacremoses-0.0.41.tar.gz (883kB)\n",
            "\u001b[K     |████████████████████████████████| 890kB 45.9MB/s \n",
            "\u001b[?25hRequirement already satisfied: boto3 in /usr/local/lib/python3.6/dist-packages (from transformers) (1.12.38)\n",
            "Requirement already satisfied: requests in /usr/local/lib/python3.6/dist-packages (from transformers) (2.21.0)\n",
            "Requirement already satisfied: dataclasses; python_version < \"3.7\" in /usr/local/lib/python3.6/dist-packages (from transformers) (0.7)\n",
            "Requirement already satisfied: six in /usr/local/lib/python3.6/dist-packages (from sacremoses->transformers) (1.12.0)\n",
            "Requirement already satisfied: click in /usr/local/lib/python3.6/dist-packages (from sacremoses->transformers) (7.1.1)\n",
            "Requirement already satisfied: joblib in /usr/local/lib/python3.6/dist-packages (from sacremoses->transformers) (0.14.1)\n",
            "Requirement already satisfied: botocore<1.16.0,>=1.15.38 in /usr/local/lib/python3.6/dist-packages (from boto3->transformers) (1.15.38)\n",
            "Requirement already satisfied: s3transfer<0.4.0,>=0.3.0 in /usr/local/lib/python3.6/dist-packages (from boto3->transformers) (0.3.3)\n",
            "Requirement already satisfied: jmespath<1.0.0,>=0.7.1 in /usr/local/lib/python3.6/dist-packages (from boto3->transformers) (0.9.5)\n",
            "Requirement already satisfied: urllib3<1.25,>=1.21.1 in /usr/local/lib/python3.6/dist-packages (from requests->transformers) (1.24.3)\n",
            "Requirement already satisfied: certifi>=2017.4.17 in /usr/local/lib/python3.6/dist-packages (from requests->transformers) (2020.4.5.1)\n",
            "Requirement already satisfied: idna<2.9,>=2.5 in /usr/local/lib/python3.6/dist-packages (from requests->transformers) (2.8)\n",
            "Requirement already satisfied: chardet<3.1.0,>=3.0.2 in /usr/local/lib/python3.6/dist-packages (from requests->transformers) (3.0.4)\n",
            "Requirement already satisfied: docutils<0.16,>=0.10 in /usr/local/lib/python3.6/dist-packages (from botocore<1.16.0,>=1.15.38->boto3->transformers) (0.15.2)\n",
            "Requirement already satisfied: python-dateutil<3.0.0,>=2.1 in /usr/local/lib/python3.6/dist-packages (from botocore<1.16.0,>=1.15.38->boto3->transformers) (2.8.1)\n",
            "Building wheels for collected packages: sacremoses\n",
            "  Building wheel for sacremoses (setup.py) ... \u001b[?25l\u001b[?25hdone\n",
            "  Created wheel for sacremoses: filename=sacremoses-0.0.41-cp36-none-any.whl size=893334 sha256=413bafb07ef473f111b79725515b1c3a367ebb457d8396e6be925816f9c2561c\n",
            "  Stored in directory: /root/.cache/pip/wheels/22/5a/d4/b020a81249de7dc63758a34222feaa668dbe8ebfe9170cc9b1\n",
            "Successfully built sacremoses\n",
            "Installing collected packages: tokenizers, sentencepiece, sacremoses, transformers\n",
            "Successfully installed sacremoses-0.0.41 sentencepiece-0.1.85 tokenizers-0.5.2 transformers-2.8.0\n",
            "Collecting rpforest\n",
            "\u001b[?25l  Downloading https://files.pythonhosted.org/packages/2c/6c/e481dbc2db5729aaca7d981f77d9387c6dfe9d66cbe76a085405496aaff7/rpforest-1.6.tar.gz (4.4MB)\n",
            "\u001b[K     |████████████████████████████████| 4.4MB 4.8MB/s \n",
            "\u001b[?25h  Installing build dependencies ... \u001b[?25l\u001b[?25hdone\n",
            "  Getting requirements to build wheel ... \u001b[?25l\u001b[?25hdone\n",
            "  Installing backend dependencies ... \u001b[?25l\u001b[?25hdone\n",
            "    Preparing wheel metadata ... \u001b[?25l\u001b[?25hdone\n",
            "Requirement already satisfied: numpy<2.0.0,>=1.8.0 in /usr/local/lib/python3.6/dist-packages (from rpforest) (1.18.2)\n",
            "Building wheels for collected packages: rpforest\n",
            "  Building wheel for rpforest (PEP 517) ... \u001b[?25l\u001b[?25hdone\n",
            "  Created wheel for rpforest: filename=rpforest-1.6-cp36-cp36m-linux_x86_64.whl size=687007 sha256=662a8c826ff6fa34a1abeacf2cbc63e092890f6bb2c9ae61c5e195e0f66b3c25\n",
            "  Stored in directory: /root/.cache/pip/wheels/c1/e0/18/4b85e59d998a836b344d1225e28d80e928997d11ebdba18b9d\n",
            "Successfully built rpforest\n",
            "Installing collected packages: rpforest\n",
            "Successfully installed rpforest-1.6\n"
          ],
          "name": "stdout"
        }
      ]
    },
    {
      "cell_type": "code",
      "metadata": {
        "id": "7sllcyWEUs-B",
        "colab_type": "code",
        "colab": {}
      },
      "source": [
        "import pandas as pd\n",
        "from sklearn.feature_extraction.text import TfidfVectorizer\n",
        "from scipy.spatial.distance import euclidean, cosine\n",
        "from transformers import RobertaTokenizer, RobertaModel\n",
        "import torch\n",
        "from torch.utils.data import TensorDataset, DataLoader\n",
        "from scipy.special import softmax\n",
        "import numpy as np\n",
        "\n",
        "from tqdm import tqdm\n",
        "import math"
      ],
      "execution_count": 0,
      "outputs": []
    },
    {
      "cell_type": "markdown",
      "metadata": {
        "id": "xO8Q2T1dU1fN",
        "colab_type": "text"
      },
      "source": [
        "##1. Load dataset"
      ]
    },
    {
      "cell_type": "code",
      "metadata": {
        "id": "-ytlLQ3-UzNW",
        "colab_type": "code",
        "outputId": "226d7068-ffe2-435a-e158-f7a39d348dd5",
        "colab": {
          "base_uri": "https://localhost:8080/",
          "height": 122
        }
      },
      "source": [
        "from google.colab import drive\n",
        "drive.mount('/content/drive')"
      ],
      "execution_count": 0,
      "outputs": [
        {
          "output_type": "stream",
          "text": [
            "Go to this URL in a browser: https://accounts.google.com/o/oauth2/auth?client_id=947318989803-6bn6qk8qdgf4n4g3pfee6491hc0brc4i.apps.googleusercontent.com&redirect_uri=urn%3aietf%3awg%3aoauth%3a2.0%3aoob&response_type=code&scope=email%20https%3a%2f%2fwww.googleapis.com%2fauth%2fdocs.test%20https%3a%2f%2fwww.googleapis.com%2fauth%2fdrive%20https%3a%2f%2fwww.googleapis.com%2fauth%2fdrive.photos.readonly%20https%3a%2f%2fwww.googleapis.com%2fauth%2fpeopleapi.readonly\n",
            "\n",
            "Enter your authorization code:\n",
            "··········\n",
            "Mounted at /content/drive\n"
          ],
          "name": "stdout"
        }
      ]
    },
    {
      "cell_type": "code",
      "metadata": {
        "id": "sSxUiAv7U4cT",
        "colab_type": "code",
        "colab": {}
      },
      "source": [
        "root_dir = '/content/drive/Shared drives/COVID-19-Research/data/'\n",
        "df = pd.read_csv(f'{root_dir}/metadata.csv', header=0, usecols=['title', 'abstract', 'journal'])"
      ],
      "execution_count": 0,
      "outputs": []
    },
    {
      "cell_type": "code",
      "metadata": {
        "id": "TfXvQZsjwI2a",
        "colab_type": "code",
        "outputId": "15cf121c-5e58-458d-ab92-76135a49441b",
        "colab": {
          "base_uri": "https://localhost:8080/",
          "height": 34
        }
      },
      "source": [
        "df['title'].isnull().sum()"
      ],
      "execution_count": 0,
      "outputs": [
        {
          "output_type": "execute_result",
          "data": {
            "text/plain": [
              "158"
            ]
          },
          "metadata": {
            "tags": []
          },
          "execution_count": 6
        }
      ]
    },
    {
      "cell_type": "code",
      "metadata": {
        "id": "hXMbMZCdwwle",
        "colab_type": "code",
        "outputId": "d6f12857-a9ca-48a3-e5ae-45814d2dd389",
        "colab": {
          "base_uri": "https://localhost:8080/",
          "height": 51
        }
      },
      "source": [
        "print(len(df))\n",
        "df = df[df['title'].notna()]\n",
        "df = df[df['abstract'].notna()]\n",
        "print(len(df))"
      ],
      "execution_count": 0,
      "outputs": [
        {
          "output_type": "stream",
          "text": [
            "51078\n",
            "42203\n"
          ],
          "name": "stdout"
        }
      ]
    },
    {
      "cell_type": "code",
      "metadata": {
        "id": "8Kyz_CTXU_UN",
        "colab_type": "code",
        "colab": {}
      },
      "source": [
        "df['title'].fillna('', inplace=True)\n",
        "# combine title and abstract\n",
        "df['title+abstract'] = df['title'] + '\\n' + df['abstract']"
      ],
      "execution_count": 0,
      "outputs": []
    },
    {
      "cell_type": "code",
      "metadata": {
        "id": "mPbCeCErU_y3",
        "colab_type": "code",
        "outputId": "521dbbcf-c733-4875-d927-7b205c650d33",
        "colab": {
          "base_uri": "https://localhost:8080/",
          "height": 238
        }
      },
      "source": [
        "print(len(df))\n",
        "print(len(df[df['title+abstract']=='']))\n",
        "\n",
        "df.head()"
      ],
      "execution_count": 0,
      "outputs": [
        {
          "output_type": "stream",
          "text": [
            "42203\n",
            "0\n"
          ],
          "name": "stdout"
        },
        {
          "output_type": "execute_result",
          "data": {
            "text/html": [
              "<div>\n",
              "<style scoped>\n",
              "    .dataframe tbody tr th:only-of-type {\n",
              "        vertical-align: middle;\n",
              "    }\n",
              "\n",
              "    .dataframe tbody tr th {\n",
              "        vertical-align: top;\n",
              "    }\n",
              "\n",
              "    .dataframe thead th {\n",
              "        text-align: right;\n",
              "    }\n",
              "</style>\n",
              "<table border=\"1\" class=\"dataframe\">\n",
              "  <thead>\n",
              "    <tr style=\"text-align: right;\">\n",
              "      <th></th>\n",
              "      <th>title</th>\n",
              "      <th>abstract</th>\n",
              "      <th>journal</th>\n",
              "      <th>title+abstract</th>\n",
              "    </tr>\n",
              "  </thead>\n",
              "  <tbody>\n",
              "    <tr>\n",
              "      <th>0</th>\n",
              "      <td>Airborne rhinovirus detection and effect of ul...</td>\n",
              "      <td>BACKGROUND: Rhinovirus, the most common cause ...</td>\n",
              "      <td>BMC Public Health</td>\n",
              "      <td>Airborne rhinovirus detection and effect of ul...</td>\n",
              "    </tr>\n",
              "    <tr>\n",
              "      <th>1</th>\n",
              "      <td>Discovering human history from stomach bacteria</td>\n",
              "      <td>Recent analyses of human pathogens have reveal...</td>\n",
              "      <td>Genome Biol</td>\n",
              "      <td>Discovering human history from stomach bacteri...</td>\n",
              "    </tr>\n",
              "    <tr>\n",
              "      <th>2</th>\n",
              "      <td>A new recruit for the army of the men of death</td>\n",
              "      <td>The army of the men of death, in John Bunyan's...</td>\n",
              "      <td>Genome Biol</td>\n",
              "      <td>A new recruit for the army of the men of death...</td>\n",
              "    </tr>\n",
              "    <tr>\n",
              "      <th>3</th>\n",
              "      <td>Association of HLA class I with severe acute r...</td>\n",
              "      <td>BACKGROUND: The human leukocyte antigen (HLA) ...</td>\n",
              "      <td>BMC Med Genet</td>\n",
              "      <td>Association of HLA class I with severe acute r...</td>\n",
              "    </tr>\n",
              "    <tr>\n",
              "      <th>4</th>\n",
              "      <td>A double epidemic model for the SARS propagation</td>\n",
              "      <td>BACKGROUND: An epidemic of a Severe Acute Resp...</td>\n",
              "      <td>BMC Infect Dis</td>\n",
              "      <td>A double epidemic model for the SARS propagati...</td>\n",
              "    </tr>\n",
              "  </tbody>\n",
              "</table>\n",
              "</div>"
            ],
            "text/plain": [
              "                                               title  ...                                     title+abstract\n",
              "0  Airborne rhinovirus detection and effect of ul...  ...  Airborne rhinovirus detection and effect of ul...\n",
              "1    Discovering human history from stomach bacteria  ...  Discovering human history from stomach bacteri...\n",
              "2     A new recruit for the army of the men of death  ...  A new recruit for the army of the men of death...\n",
              "3  Association of HLA class I with severe acute r...  ...  Association of HLA class I with severe acute r...\n",
              "4   A double epidemic model for the SARS propagation  ...  A double epidemic model for the SARS propagati...\n",
              "\n",
              "[5 rows x 4 columns]"
            ]
          },
          "metadata": {
            "tags": []
          },
          "execution_count": 9
        }
      ]
    },
    {
      "cell_type": "code",
      "metadata": {
        "id": "NuYh4WPa1d-x",
        "colab_type": "code",
        "outputId": "e179fe16-798b-439d-c26b-f62faa9c0842",
        "colab": {
          "base_uri": "https://localhost:8080/",
          "height": 204
        }
      },
      "source": [
        "df.reset_index(drop=True, inplace=True)\n",
        "df.head()"
      ],
      "execution_count": 0,
      "outputs": [
        {
          "output_type": "execute_result",
          "data": {
            "text/html": [
              "<div>\n",
              "<style scoped>\n",
              "    .dataframe tbody tr th:only-of-type {\n",
              "        vertical-align: middle;\n",
              "    }\n",
              "\n",
              "    .dataframe tbody tr th {\n",
              "        vertical-align: top;\n",
              "    }\n",
              "\n",
              "    .dataframe thead th {\n",
              "        text-align: right;\n",
              "    }\n",
              "</style>\n",
              "<table border=\"1\" class=\"dataframe\">\n",
              "  <thead>\n",
              "    <tr style=\"text-align: right;\">\n",
              "      <th></th>\n",
              "      <th>title</th>\n",
              "      <th>abstract</th>\n",
              "      <th>journal</th>\n",
              "      <th>title+abstract</th>\n",
              "    </tr>\n",
              "  </thead>\n",
              "  <tbody>\n",
              "    <tr>\n",
              "      <th>0</th>\n",
              "      <td>Airborne rhinovirus detection and effect of ul...</td>\n",
              "      <td>BACKGROUND: Rhinovirus, the most common cause ...</td>\n",
              "      <td>BMC Public Health</td>\n",
              "      <td>Airborne rhinovirus detection and effect of ul...</td>\n",
              "    </tr>\n",
              "    <tr>\n",
              "      <th>1</th>\n",
              "      <td>Discovering human history from stomach bacteria</td>\n",
              "      <td>Recent analyses of human pathogens have reveal...</td>\n",
              "      <td>Genome Biol</td>\n",
              "      <td>Discovering human history from stomach bacteri...</td>\n",
              "    </tr>\n",
              "    <tr>\n",
              "      <th>2</th>\n",
              "      <td>A new recruit for the army of the men of death</td>\n",
              "      <td>The army of the men of death, in John Bunyan's...</td>\n",
              "      <td>Genome Biol</td>\n",
              "      <td>A new recruit for the army of the men of death...</td>\n",
              "    </tr>\n",
              "    <tr>\n",
              "      <th>3</th>\n",
              "      <td>Association of HLA class I with severe acute r...</td>\n",
              "      <td>BACKGROUND: The human leukocyte antigen (HLA) ...</td>\n",
              "      <td>BMC Med Genet</td>\n",
              "      <td>Association of HLA class I with severe acute r...</td>\n",
              "    </tr>\n",
              "    <tr>\n",
              "      <th>4</th>\n",
              "      <td>A double epidemic model for the SARS propagation</td>\n",
              "      <td>BACKGROUND: An epidemic of a Severe Acute Resp...</td>\n",
              "      <td>BMC Infect Dis</td>\n",
              "      <td>A double epidemic model for the SARS propagati...</td>\n",
              "    </tr>\n",
              "  </tbody>\n",
              "</table>\n",
              "</div>"
            ],
            "text/plain": [
              "                                               title  ...                                     title+abstract\n",
              "0  Airborne rhinovirus detection and effect of ul...  ...  Airborne rhinovirus detection and effect of ul...\n",
              "1    Discovering human history from stomach bacteria  ...  Discovering human history from stomach bacteri...\n",
              "2     A new recruit for the army of the men of death  ...  A new recruit for the army of the men of death...\n",
              "3  Association of HLA class I with severe acute r...  ...  Association of HLA class I with severe acute r...\n",
              "4   A double epidemic model for the SARS propagation  ...  A double epidemic model for the SARS propagati...\n",
              "\n",
              "[5 rows x 4 columns]"
            ]
          },
          "metadata": {
            "tags": []
          },
          "execution_count": 10
        }
      ]
    },
    {
      "cell_type": "markdown",
      "metadata": {
        "id": "aQWadh09Vf14",
        "colab_type": "text"
      },
      "source": [
        "##2. Obtain document vectors as matrices"
      ]
    },
    {
      "cell_type": "code",
      "metadata": {
        "id": "C8L2FTfrZw1k",
        "colab_type": "code",
        "outputId": "f2f756e8-f852-43ff-df72-e023f2df4a15",
        "colab": {
          "base_uri": "https://localhost:8080/",
          "height": 213,
          "referenced_widgets": [
            "b4fa6ef8c01c4a459544054c87741618",
            "c5f867e7e7f241fe8abf12708d94a50a",
            "1b19546eab99417885a40c91fb0560b2",
            "101c3cc3e3c640c393058c81c80a99c4",
            "6f750c855d7c496c87b601121fecee80",
            "91a0b94c868643cb8f1f668dc357e342",
            "24d61bf9beba4e9f92e4c09953725ba4",
            "6f873ff3a59a4480a19d0d99ddb68c03",
            "292be32ddb5844fea9299da19b4d285f",
            "c8e4a9f266374227a1bb2972961e2ffd",
            "cdf46c9e121e47c39037c941c82e6a1e",
            "adf08d56e85f47988d5e7133896cd921",
            "0589e551071942b3a6ea41b0729b6e30",
            "03d560f2751141f3bea9cd99b9e0b635",
            "b20065855450457b9bbe004a2aaf1548",
            "8933953d0120465398f683709586c475",
            "6584e9d17d804770ac8c31522cec26a4",
            "473a6370b30a4da681250c935524bda5",
            "7e2df146f6724caeabbfff4106e11fb0",
            "5bb9cbdd5f8c441db6e59aeaa8df3e29",
            "eafb7670f9f8459eb583a478cedf101f",
            "409c9364081d41afbb4be77b5dbafc6a",
            "34ee2440376449ff90b180b3757d3221",
            "32cd52ca28344c1680a8af34832764d5",
            "74e886fb6fe4452b96c2b4d7e8dd7220",
            "d3e47398170f46b1985a8693c086feba",
            "a4140e80227548bd8d0db464bb3223f4",
            "f43e5a36265c4f278cc85c398b2ce321",
            "e05dcc9fc47d42aa99a7ad03abd36df4",
            "5ab831cdfeac4dde95e099980e960262",
            "f909249ac2294bb4b20e79a3a33a258c",
            "e00a23c66bfe4c64a629aef163540c22"
          ]
        }
      },
      "source": [
        "device = torch.device('cuda') if torch.cuda.is_available() else torch.device('cpu')\n",
        "model = RobertaModel.from_pretrained('roberta-base').to(device)\n",
        "model.eval()\n",
        "tokenizer = RobertaTokenizer.from_pretrained('roberta-base')"
      ],
      "execution_count": 0,
      "outputs": [
        {
          "output_type": "display_data",
          "data": {
            "application/vnd.jupyter.widget-view+json": {
              "model_id": "b4fa6ef8c01c4a459544054c87741618",
              "version_minor": 0,
              "version_major": 2
            },
            "text/plain": [
              "HBox(children=(IntProgress(value=0, description='Downloading', max=524, style=ProgressStyle(description_width=…"
            ]
          },
          "metadata": {
            "tags": []
          }
        },
        {
          "output_type": "stream",
          "text": [
            "\n"
          ],
          "name": "stdout"
        },
        {
          "output_type": "display_data",
          "data": {
            "application/vnd.jupyter.widget-view+json": {
              "model_id": "292be32ddb5844fea9299da19b4d285f",
              "version_minor": 0,
              "version_major": 2
            },
            "text/plain": [
              "HBox(children=(IntProgress(value=0, description='Downloading', max=501200538, style=ProgressStyle(description_…"
            ]
          },
          "metadata": {
            "tags": []
          }
        },
        {
          "output_type": "stream",
          "text": [
            "\n"
          ],
          "name": "stdout"
        },
        {
          "output_type": "display_data",
          "data": {
            "application/vnd.jupyter.widget-view+json": {
              "model_id": "6584e9d17d804770ac8c31522cec26a4",
              "version_minor": 0,
              "version_major": 2
            },
            "text/plain": [
              "HBox(children=(IntProgress(value=0, description='Downloading', max=898823, style=ProgressStyle(description_wid…"
            ]
          },
          "metadata": {
            "tags": []
          }
        },
        {
          "output_type": "stream",
          "text": [
            "\n"
          ],
          "name": "stdout"
        },
        {
          "output_type": "display_data",
          "data": {
            "application/vnd.jupyter.widget-view+json": {
              "model_id": "74e886fb6fe4452b96c2b4d7e8dd7220",
              "version_minor": 0,
              "version_major": 2
            },
            "text/plain": [
              "HBox(children=(IntProgress(value=0, description='Downloading', max=456318, style=ProgressStyle(description_wid…"
            ]
          },
          "metadata": {
            "tags": []
          }
        },
        {
          "output_type": "stream",
          "text": [
            "\n"
          ],
          "name": "stdout"
        }
      ]
    },
    {
      "cell_type": "code",
      "metadata": {
        "id": "mm1ltAQGWJ0h",
        "colab_type": "code",
        "colab": {}
      },
      "source": [
        "def get_embed_matrix():\n",
        "  save_path = f'{root_dir}outputs_hong/roberta.npy'\n",
        "  try:\n",
        "    return np.load(save_path)\n",
        "  except:\n",
        "    print(f'Cannot directly load numpy roberta.npy')\n",
        "    token_info = tokenizer.batch_encode_plus(df['title+abstract'].tolist(), max_length=300, pad_to_max_length=True, return_attention_masks=True) \n",
        "\n",
        "    input_idss = torch.tensor(token_info['input_ids'], dtype=torch.long)\n",
        "    attention_masks = torch.tensor(token_info['attention_mask'], dtype=torch.long)\n",
        "    print(f'input tensor size: {input_idss.size()}')\n",
        "\n",
        "    dataloader = DataLoader(TensorDataset(input_idss, attention_masks), batch_size=32, shuffle=False)\n",
        "    # run model\n",
        "    feature_vec = []\n",
        "    with torch.no_grad():\n",
        "      for input_ids, attention_mask in tqdm(dataloader):\n",
        "        feature_vec.append(model(input_ids.to(device), attention_mask=attention_mask.to(device))[0][:,0,:].cpu())\n",
        "    feature_vec = torch.cat(feature_vec, dim=0)\n",
        "    print(f'output feature vec size: {feature_vec.size()}')\n",
        "    np.save(save_path, feature_vec.numpy())\n",
        "    return feature_vec\n",
        "\n",
        "embed_matrix = get_embed_matrix()\n",
        "embed_matrix.shape"
      ],
      "execution_count": 0,
      "outputs": []
    },
    {
      "cell_type": "code",
      "metadata": {
        "id": "_-cboARPthQr",
        "colab_type": "code",
        "outputId": "ce5139e1-9cbb-44c8-a724-8990a9ec0fca",
        "colab": {
          "base_uri": "https://localhost:8080/",
          "height": 34
        }
      },
      "source": [
        "# train tf-idf vectorizers and fit documents\n",
        "tfidf_vectorizer = TfidfVectorizer(max_df=0.9, stop_words='english', max_features=800)\n",
        "\n",
        "def get_dfidf_matrices():\n",
        "  return tfidf_vectorizer.fit_transform(df['title+abstract'])\n",
        "\n",
        "\n",
        "tfidf_matrix = get_dfidf_matrices()\n",
        "print(f'tf-idf matrix shape: {tfidf_matrix.shape}')"
      ],
      "execution_count": 0,
      "outputs": [
        {
          "output_type": "stream",
          "text": [
            "tf-idf matrix shape: (42203, 800)\n"
          ],
          "name": "stdout"
        }
      ]
    },
    {
      "cell_type": "markdown",
      "metadata": {
        "id": "L_f3ZQU1idCy",
        "colab_type": "text"
      },
      "source": [
        "##3. Compute scores given a query"
      ]
    },
    {
      "cell_type": "code",
      "metadata": {
        "id": "XAHsiWXHL50e",
        "colab_type": "code",
        "colab": {}
      },
      "source": [
        "def query(query, method):\n",
        "\n",
        "  if method == 'tf-idf':    \n",
        "    vec = tfidf_vectorizer.transform([query]).toarray()[0] * 100\n",
        "    matrix = tfidf_matrix.toarray() * 100\n",
        "  else:\n",
        "    with torch.no_grad():\n",
        "      input_ids = torch.tensor(tokenizer.encode(query, add_special_tokens=True)).unsqueeze(0).to(device)\n",
        "      vec = model(input_ids)[1].squeeze().cpu().numpy() * 100\n",
        "    matrix = embed_matrix * 100\n",
        "  \n",
        "  # print(f'{method} distance: {1 - cosine(vec, matrix[0])}')\n",
        "\n",
        "  score = np.asarray([1 - cosine(vec, doc_vec) for doc_vec in matrix])\n",
        "  # print(f'{method}: {score}')\n",
        "  return score\n",
        "\n",
        "def score_document(vaccine_queries, therap_queries):\n",
        "  def compute_other_score(a, b):\n",
        "    sqrt_func = np.vectorize(math.sqrt)\n",
        "    return 0.5 * (sqrt_func((1-a) * (1-b)) - sqrt_func((1+a) * (1+b)))\n",
        "    # return -(a + b)\n",
        "\n",
        "  vaccine_scoress, therap_scoress = [], []\n",
        "  from itertools import product\n",
        "  for method, vaccine_query, therap_query in product(['tf-idf'], vaccine_queries, therap_queries):\n",
        "    vaccine_scoress.append(query(vaccine_query, method))\n",
        "    therap_scoress.append(query(therap_query, method))\n",
        "\n",
        "  final_scores = []\n",
        "  for vaccine_scores, therap_scores in zip(vaccine_scoress, therap_scoress):\n",
        "    other_scores = compute_other_score(vaccine_scores, therap_scores)\n",
        "    # compute softmax scores\n",
        "    scores = np.stack([other_scores, vaccine_scores, therap_scores], axis=0)\n",
        "    scores = softmax(scores, axis=0)\n",
        "    final_scores.append(scores)\n",
        "\n",
        "\n",
        "  # majority votes\n",
        "  final_votes = [np.argmax(final_score, axis=0) for final_score in final_scores]\n",
        "\n",
        "  final_votes = np.stack(final_votes)\n",
        "  print(f'finalvotes shape: {final_votes.shape}')\n",
        "  print(final_votes[:,:20])\n",
        "  from scipy.stats import mode\n",
        "  final_votes = mode(final_votes, axis=0)[0].squeeze()\n",
        "  print(f'finalvotes shape: {final_votes.shape}')\n",
        "  return final_votes"
      ],
      "execution_count": 0,
      "outputs": []
    },
    {
      "cell_type": "code",
      "metadata": {
        "id": "259S6tbvh-JR",
        "colab_type": "code",
        "outputId": "2a783f2f-dcf5-4b22-c5af-4477100a1cf8",
        "colab": {
          "base_uri": "https://localhost:8080/",
          "height": 1000
        }
      },
      "source": [
        "vaccine_queries = ('vaccine vaccination dose antitoxin serum immunization inoculation for COVID-19 or coronavirus related research work',\n",
        "                  'Methods evaluating potential complication of Antibody-Dependent Enhancement (ADE) in vaccine recipients of COVID-19 or coronavirus',\n",
        "                   'Methods evaluating potential complication of Antibody-Dependent Enhancement (ADE) in vaccine recipients',\n",
        "                   'Exploration of use of best animal models and their predictive value for a human vaccine')\n",
        "therap_queries = ('Therapeutics treatment therapy drug antidotes cures remedies medication prophylactic restorative panacea for COVID-19 or coronavirus',\n",
        "                   'Effectiveness of drugs like naproxen, clarithromycin, and minocyclinethat being developed that may exert effects on viral replication and tried to treat COVID-19 patients',\n",
        "                  'Clinical and bench trials to investigate less common viral inhibitors against COVID-19 such as naproxen, clarithromycin, and minocyclinethat that may exert effects on viral replication.',\n",
        "                  'Effectiveness of drugs being developed and tried to treat COVID-19 patients')\n",
        "final_votes = score_document(vaccine_queries, therap_queries)\n"
      ],
      "execution_count": 0,
      "outputs": [
        {
          "output_type": "stream",
          "text": [
            "/usr/local/lib/python3.6/dist-packages/scipy/spatial/distance.py:720: RuntimeWarning: invalid value encountered in double_scalars\n",
            "  dist = 1.0 - uv / np.sqrt(uu * vv)\n",
            "/usr/local/lib/python3.6/dist-packages/scipy/spatial/distance.py:720: RuntimeWarning: invalid value encountered in double_scalars\n",
            "  dist = 1.0 - uv / np.sqrt(uu * vv)\n",
            "/usr/local/lib/python3.6/dist-packages/scipy/spatial/distance.py:720: RuntimeWarning: invalid value encountered in double_scalars\n",
            "  dist = 1.0 - uv / np.sqrt(uu * vv)\n",
            "/usr/local/lib/python3.6/dist-packages/scipy/spatial/distance.py:720: RuntimeWarning: invalid value encountered in double_scalars\n",
            "  dist = 1.0 - uv / np.sqrt(uu * vv)\n",
            "/usr/local/lib/python3.6/dist-packages/scipy/spatial/distance.py:720: RuntimeWarning: invalid value encountered in double_scalars\n",
            "  dist = 1.0 - uv / np.sqrt(uu * vv)\n",
            "/usr/local/lib/python3.6/dist-packages/scipy/spatial/distance.py:720: RuntimeWarning: invalid value encountered in double_scalars\n",
            "  dist = 1.0 - uv / np.sqrt(uu * vv)\n",
            "/usr/local/lib/python3.6/dist-packages/scipy/spatial/distance.py:720: RuntimeWarning: invalid value encountered in double_scalars\n",
            "  dist = 1.0 - uv / np.sqrt(uu * vv)\n",
            "/usr/local/lib/python3.6/dist-packages/scipy/spatial/distance.py:720: RuntimeWarning: invalid value encountered in double_scalars\n",
            "  dist = 1.0 - uv / np.sqrt(uu * vv)\n",
            "/usr/local/lib/python3.6/dist-packages/scipy/spatial/distance.py:720: RuntimeWarning: invalid value encountered in double_scalars\n",
            "  dist = 1.0 - uv / np.sqrt(uu * vv)\n",
            "/usr/local/lib/python3.6/dist-packages/scipy/spatial/distance.py:720: RuntimeWarning: invalid value encountered in double_scalars\n",
            "  dist = 1.0 - uv / np.sqrt(uu * vv)\n",
            "/usr/local/lib/python3.6/dist-packages/scipy/spatial/distance.py:720: RuntimeWarning: invalid value encountered in double_scalars\n",
            "  dist = 1.0 - uv / np.sqrt(uu * vv)\n",
            "/usr/local/lib/python3.6/dist-packages/scipy/spatial/distance.py:720: RuntimeWarning: invalid value encountered in double_scalars\n",
            "  dist = 1.0 - uv / np.sqrt(uu * vv)\n",
            "/usr/local/lib/python3.6/dist-packages/scipy/spatial/distance.py:720: RuntimeWarning: invalid value encountered in double_scalars\n",
            "  dist = 1.0 - uv / np.sqrt(uu * vv)\n",
            "/usr/local/lib/python3.6/dist-packages/scipy/spatial/distance.py:720: RuntimeWarning: invalid value encountered in double_scalars\n",
            "  dist = 1.0 - uv / np.sqrt(uu * vv)\n",
            "/usr/local/lib/python3.6/dist-packages/scipy/spatial/distance.py:720: RuntimeWarning: invalid value encountered in double_scalars\n",
            "  dist = 1.0 - uv / np.sqrt(uu * vv)\n",
            "/usr/local/lib/python3.6/dist-packages/scipy/spatial/distance.py:720: RuntimeWarning: invalid value encountered in double_scalars\n",
            "  dist = 1.0 - uv / np.sqrt(uu * vv)\n",
            "/usr/local/lib/python3.6/dist-packages/scipy/spatial/distance.py:720: RuntimeWarning: invalid value encountered in double_scalars\n",
            "  dist = 1.0 - uv / np.sqrt(uu * vv)\n",
            "/usr/local/lib/python3.6/dist-packages/scipy/spatial/distance.py:720: RuntimeWarning: invalid value encountered in double_scalars\n",
            "  dist = 1.0 - uv / np.sqrt(uu * vv)\n",
            "/usr/local/lib/python3.6/dist-packages/scipy/spatial/distance.py:720: RuntimeWarning: invalid value encountered in double_scalars\n",
            "  dist = 1.0 - uv / np.sqrt(uu * vv)\n",
            "/usr/local/lib/python3.6/dist-packages/scipy/spatial/distance.py:720: RuntimeWarning: invalid value encountered in double_scalars\n",
            "  dist = 1.0 - uv / np.sqrt(uu * vv)\n",
            "/usr/local/lib/python3.6/dist-packages/scipy/spatial/distance.py:720: RuntimeWarning: invalid value encountered in double_scalars\n",
            "  dist = 1.0 - uv / np.sqrt(uu * vv)\n",
            "/usr/local/lib/python3.6/dist-packages/scipy/spatial/distance.py:720: RuntimeWarning: invalid value encountered in double_scalars\n",
            "  dist = 1.0 - uv / np.sqrt(uu * vv)\n",
            "/usr/local/lib/python3.6/dist-packages/scipy/spatial/distance.py:720: RuntimeWarning: invalid value encountered in double_scalars\n",
            "  dist = 1.0 - uv / np.sqrt(uu * vv)\n",
            "/usr/local/lib/python3.6/dist-packages/scipy/spatial/distance.py:720: RuntimeWarning: invalid value encountered in double_scalars\n",
            "  dist = 1.0 - uv / np.sqrt(uu * vv)\n",
            "/usr/local/lib/python3.6/dist-packages/scipy/spatial/distance.py:720: RuntimeWarning: invalid value encountered in double_scalars\n",
            "  dist = 1.0 - uv / np.sqrt(uu * vv)\n",
            "/usr/local/lib/python3.6/dist-packages/scipy/spatial/distance.py:720: RuntimeWarning: invalid value encountered in double_scalars\n",
            "  dist = 1.0 - uv / np.sqrt(uu * vv)\n",
            "/usr/local/lib/python3.6/dist-packages/scipy/spatial/distance.py:720: RuntimeWarning: invalid value encountered in double_scalars\n",
            "  dist = 1.0 - uv / np.sqrt(uu * vv)\n",
            "/usr/local/lib/python3.6/dist-packages/scipy/spatial/distance.py:720: RuntimeWarning: invalid value encountered in double_scalars\n",
            "  dist = 1.0 - uv / np.sqrt(uu * vv)\n",
            "/usr/local/lib/python3.6/dist-packages/scipy/spatial/distance.py:720: RuntimeWarning: invalid value encountered in double_scalars\n",
            "  dist = 1.0 - uv / np.sqrt(uu * vv)\n",
            "/usr/local/lib/python3.6/dist-packages/scipy/spatial/distance.py:720: RuntimeWarning: invalid value encountered in double_scalars\n",
            "  dist = 1.0 - uv / np.sqrt(uu * vv)\n",
            "/usr/local/lib/python3.6/dist-packages/scipy/spatial/distance.py:720: RuntimeWarning: invalid value encountered in double_scalars\n",
            "  dist = 1.0 - uv / np.sqrt(uu * vv)\n",
            "/usr/local/lib/python3.6/dist-packages/scipy/spatial/distance.py:720: RuntimeWarning: invalid value encountered in double_scalars\n",
            "  dist = 1.0 - uv / np.sqrt(uu * vv)\n"
          ],
          "name": "stderr"
        },
        {
          "output_type": "stream",
          "text": [
            "finalvotes shape: (16, 42203)\n",
            "[[1 0 0 2 2 2 2 2 1 0 0 0 1 0 2 2 2 2 1 0]\n",
            " [2 0 0 1 2 2 1 2 1 2 0 0 1 2 1 2 1 1 1 2]\n",
            " [2 0 0 1 1 2 1 2 2 2 0 0 1 0 1 1 1 2 2 2]\n",
            " [2 0 0 1 2 1 1 1 1 2 0 0 1 0 1 2 1 1 1 2]\n",
            " [1 0 0 1 2 2 1 1 0 1 0 0 1 0 2 2 2 1 2 0]\n",
            " [2 0 0 1 2 2 1 2 0 2 0 0 1 2 1 2 1 1 1 2]\n",
            " [2 0 0 1 1 2 1 2 2 2 0 0 1 0 1 1 1 1 2 2]\n",
            " [2 0 0 1 2 1 1 1 0 2 0 0 1 0 2 2 1 1 1 2]\n",
            " [1 0 0 2 2 2 1 2 0 1 0 0 1 0 2 2 2 2 2 0]\n",
            " [2 0 0 2 2 2 1 2 0 2 0 0 1 2 1 2 0 1 2 2]\n",
            " [2 0 0 1 0 2 1 2 2 2 0 0 1 0 1 1 0 2 2 2]\n",
            " [2 0 0 2 2 0 1 1 0 2 0 0 1 0 1 2 0 1 0 2]\n",
            " [0 1 0 2 2 2 2 2 1 0 0 0 1 0 2 2 2 2 2 0]\n",
            " [2 1 0 1 2 2 0 2 1 2 0 0 1 2 2 2 0 2 2 2]\n",
            " [2 1 0 1 0 2 0 2 2 2 0 0 1 0 2 2 0 2 2 2]\n",
            " [2 1 0 1 2 0 0 0 1 2 0 0 1 0 2 2 0 1 0 2]]\n",
            "finalvotes shape: (42203,)\n"
          ],
          "name": "stdout"
        }
      ]
    },
    {
      "cell_type": "code",
      "metadata": {
        "id": "zI4qLRbGtfak",
        "colab_type": "code",
        "outputId": "c000e178-db8b-4975-d085-74d8292da3f3",
        "colab": {
          "base_uri": "https://localhost:8080/",
          "height": 51
        }
      },
      "source": [
        "from collections import Counter\n",
        "print(Counter(final_votes))\n",
        "final_votes[:20]\n"
      ],
      "execution_count": 0,
      "outputs": [
        {
          "output_type": "stream",
          "text": [
            "Counter({2: 15477, 0: 13692, 1: 13034})\n"
          ],
          "name": "stdout"
        },
        {
          "output_type": "execute_result",
          "data": {
            "text/plain": [
              "array([2, 0, 0, 1, 2, 2, 1, 2, 0, 2, 0, 0, 1, 0, 1, 2, 0, 1, 2, 2])"
            ]
          },
          "metadata": {
            "tags": []
          },
          "execution_count": 50
        }
      ]
    },
    {
      "cell_type": "code",
      "metadata": {
        "id": "FMfENHntsZ4a",
        "colab_type": "code",
        "colab": {}
      },
      "source": [
        "# save as json\n",
        "import json\n",
        "json_dict = {}\n",
        "for i, row in df.iterrows():\n",
        "  json_dict[row['title']] = int(final_votes[i])\n",
        "with open('/content/drive/Shared drives/COVID-19-Research/results/Hong/votes.json', 'w') as fp:\n",
        "    json.dump(json_dict, fp)\n"
      ],
      "execution_count": 0,
      "outputs": []
    },
    {
      "cell_type": "code",
      "metadata": {
        "id": "bQ8ptDR9abjc",
        "colab_type": "code",
        "colab": {}
      },
      "source": [
        "save_path = '/content/drive/Shared drives/COVID-19-Research/results/Hong/votes'\n",
        "np.save(save_path, final_votes)"
      ],
      "execution_count": 0,
      "outputs": []
    },
    {
      "cell_type": "code",
      "metadata": {
        "id": "2fRSraNZ1pOy",
        "colab_type": "code",
        "colab": {}
      },
      "source": [
        "def get_score(title):\n",
        "  index = df.index[df['title'] == title].tolist()\n",
        "  \n",
        "  print(final_scores[index[0]])"
      ],
      "execution_count": 0,
      "outputs": []
    },
    {
      "cell_type": "code",
      "metadata": {
        "id": "XZrW_VxX6lnN",
        "colab_type": "code",
        "colab": {}
      },
      "source": [
        "df.iloc[24]['title']"
      ],
      "execution_count": 0,
      "outputs": []
    },
    {
      "cell_type": "code",
      "metadata": {
        "id": "Y_nBvCOe0IdS",
        "colab_type": "code",
        "colab": {}
      },
      "source": [
        "get_score('Immune-mediated diseases of the dog and cat III. Immune-mediated diseases of the integumentary, urogenital, endocrine and vascular systems')"
      ],
      "execution_count": 0,
      "outputs": []
    },
    {
      "cell_type": "code",
      "metadata": {
        "id": "aZFLdXPI6r2F",
        "colab_type": "code",
        "colab": {}
      },
      "source": [
        ""
      ],
      "execution_count": 0,
      "outputs": []
    }
  ]
}